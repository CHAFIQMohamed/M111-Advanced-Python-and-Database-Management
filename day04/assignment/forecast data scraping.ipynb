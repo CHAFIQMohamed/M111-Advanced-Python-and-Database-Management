{
 "cells": [
  {
   "cell_type": "markdown",
   "id": "3bf3292a",
   "metadata": {},
   "source": [
    "### Exercice:\n",
    "\n",
    "Scraping weather forecase from the The Weather Channel website `weather.com` using `requests` and `BeautifulSoup` libraries.\n",
    "\n",
    "1. Implement a scraping script for getting 10 days weather forecasts of Benguerir city and Tanger City.\n",
    "2. Store the data sets into Pandas DataFrame.\n",
    "3. Use matplotlib library to plot the raining days of the two cities in the same figure.  \n"
   ]
  },
  {
   "cell_type": "code",
   "execution_count": 1,
   "id": "e2008bdb",
   "metadata": {},
   "outputs": [],
   "source": [
    "# write your answer here\n",
    "from bs4 import BeautifulSoup\n",
    "import requests"
   ]
  },
  {
   "cell_type": "markdown",
   "id": "905d1484",
   "metadata": {},
   "source": [
    "### weather in Tanger"
   ]
  },
  {
   "cell_type": "code",
   "execution_count": 15,
   "id": "403843e2",
   "metadata": {},
   "outputs": [
    {
     "data": {
      "text/plain": [
       "<Response [200]>"
      ]
     },
     "execution_count": 15,
     "metadata": {},
     "output_type": "execute_result"
    }
   ],
   "source": [
    "#The url is the page that contain 10 days forcasts weather of Tanger \n",
    "url1=\"https://weather.com/fr-MA/temps/10jours/l/d85f06e72cf2831588a6321bed1d67ed17af1d3d7fe060cc7f2c5ccbfa35e911\"\n",
    "weather_tanger = requests.get(url1 )\n",
    "weather_tanger "
   ]
  },
  {
   "cell_type": "code",
   "execution_count": 16,
   "id": "44f550ed",
   "metadata": {},
   "outputs": [],
   "source": [
    "soup = BeautifulSoup(weather_tanger.content, 'html.parser')"
   ]
  },
  {
   "cell_type": "code",
   "execution_count": 69,
   "id": "9e98da3c",
   "metadata": {},
   "outputs": [],
   "source": [
    "#soup.prettify()"
   ]
  },
  {
   "cell_type": "code",
   "execution_count": 18,
   "id": "8fa11092",
   "metadata": {},
   "outputs": [],
   "source": [
    "import csv\n",
    "import pandas as pd\n",
    "weathers=[]  # a list to store quotes\n",
    "\n",
    "\n",
    "day =soup.find_all('h3',attrs = {'class':\"DetailsSummary--daypartName--kbngc\"})\n",
    "temp_value = soup.find_all('span', attrs={'class':\"DetailsSummary--highTempValue--3PjlX\",'data-testid':\"TemperatureValue\"})\n",
    "low_temp = soup.find_all('span', attrs={'class':\"DetailsSummary--lowTempValue--2tesQ\",'data-testid':\"TemperatureValue\"})\n",
    "weather_state = soup.find_all('div', attrs={'class':\"DailyContent--Condition--1zRBJ\" ,'data-testid':\"weatherIcon\"})\n",
    "for row in range(len(day)):\n",
    "    weather = {}\n",
    "    weather['day'] = day[row].text\n",
    "    weather['temp_value'] = temp_value[row].text\n",
    "    weather['low_temp'] = low_temp[row].text\n",
    "    weather['weather_state'] = weather_state[row].text\n",
    "    \n",
    "\n",
    "    weathers.append(weather)\n",
    "#we can store our data in .csv file   \n",
    "\"\"\"filename = 'tanger_weather.csv'\n",
    "with open(filename, 'w', newline='') as f:\n",
    "    w = csv.DictWriter(f,['day','temp','low_temp'])\n",
    "    w.writeheader()\n",
    "    for weather in weathers:\n",
    "        w.writerow(weather)\"\"\"\n",
    "# or we can store it in pandas dataframe\n",
    "w_tanger= pd.DataFrame(weathers)"
   ]
  },
  {
   "cell_type": "code",
   "execution_count": 19,
   "id": "2dcb4dd9",
   "metadata": {},
   "outputs": [
    {
     "data": {
      "text/html": [
       "<div>\n",
       "<style scoped>\n",
       "    .dataframe tbody tr th:only-of-type {\n",
       "        vertical-align: middle;\n",
       "    }\n",
       "\n",
       "    .dataframe tbody tr th {\n",
       "        vertical-align: top;\n",
       "    }\n",
       "\n",
       "    .dataframe thead th {\n",
       "        text-align: right;\n",
       "    }\n",
       "</style>\n",
       "<table border=\"1\" class=\"dataframe\">\n",
       "  <thead>\n",
       "    <tr style=\"text-align: right;\">\n",
       "      <th></th>\n",
       "      <th>day</th>\n",
       "      <th>temp_value</th>\n",
       "      <th>low_temp</th>\n",
       "      <th>weather_state</th>\n",
       "    </tr>\n",
       "  </thead>\n",
       "  <tbody>\n",
       "    <tr>\n",
       "      <th>0</th>\n",
       "      <td>Ce soir</td>\n",
       "      <td>--</td>\n",
       "      <td>15°</td>\n",
       "      <td>Scattered Showers</td>\n",
       "    </tr>\n",
       "    <tr>\n",
       "      <th>1</th>\n",
       "      <td>mer. 21</td>\n",
       "      <td>19°</td>\n",
       "      <td>13°</td>\n",
       "      <td>Scattered Showers</td>\n",
       "    </tr>\n",
       "    <tr>\n",
       "      <th>2</th>\n",
       "      <td>jeu. 22</td>\n",
       "      <td>18°</td>\n",
       "      <td>12°</td>\n",
       "      <td>Partly Cloudy Night</td>\n",
       "    </tr>\n",
       "    <tr>\n",
       "      <th>3</th>\n",
       "      <td>ven. 23</td>\n",
       "      <td>19°</td>\n",
       "      <td>12°</td>\n",
       "      <td>Partly Cloudy</td>\n",
       "    </tr>\n",
       "    <tr>\n",
       "      <th>4</th>\n",
       "      <td>sam. 24</td>\n",
       "      <td>19°</td>\n",
       "      <td>12°</td>\n",
       "      <td>Mostly Clear Night</td>\n",
       "    </tr>\n",
       "    <tr>\n",
       "      <th>5</th>\n",
       "      <td>dim. 25</td>\n",
       "      <td>22°</td>\n",
       "      <td>14°</td>\n",
       "      <td>Mostly Sunny</td>\n",
       "    </tr>\n",
       "    <tr>\n",
       "      <th>6</th>\n",
       "      <td>lun. 26</td>\n",
       "      <td>20°</td>\n",
       "      <td>14°</td>\n",
       "      <td>Mostly Clear Night</td>\n",
       "    </tr>\n",
       "    <tr>\n",
       "      <th>7</th>\n",
       "      <td>mar. 27</td>\n",
       "      <td>20°</td>\n",
       "      <td>14°</td>\n",
       "      <td>Foggy</td>\n",
       "    </tr>\n",
       "    <tr>\n",
       "      <th>8</th>\n",
       "      <td>mer. 28</td>\n",
       "      <td>19°</td>\n",
       "      <td>14°</td>\n",
       "      <td>Mostly Clear Night</td>\n",
       "    </tr>\n",
       "    <tr>\n",
       "      <th>9</th>\n",
       "      <td>jeu. 29</td>\n",
       "      <td>18°</td>\n",
       "      <td>13°</td>\n",
       "      <td>Partly Cloudy</td>\n",
       "    </tr>\n",
       "    <tr>\n",
       "      <th>10</th>\n",
       "      <td>ven. 30</td>\n",
       "      <td>18°</td>\n",
       "      <td>13°</td>\n",
       "      <td>Partly Cloudy Night</td>\n",
       "    </tr>\n",
       "    <tr>\n",
       "      <th>11</th>\n",
       "      <td>sam. 31</td>\n",
       "      <td>18°</td>\n",
       "      <td>13°</td>\n",
       "      <td>Mostly Sunny</td>\n",
       "    </tr>\n",
       "    <tr>\n",
       "      <th>12</th>\n",
       "      <td>dim. 01</td>\n",
       "      <td>19°</td>\n",
       "      <td>13°</td>\n",
       "      <td>Partly Cloudy Night</td>\n",
       "    </tr>\n",
       "    <tr>\n",
       "      <th>13</th>\n",
       "      <td>lun. 02</td>\n",
       "      <td>19°</td>\n",
       "      <td>13°</td>\n",
       "      <td>Scattered Showers</td>\n",
       "    </tr>\n",
       "    <tr>\n",
       "      <th>14</th>\n",
       "      <td>mar. 03</td>\n",
       "      <td>19°</td>\n",
       "      <td>13°</td>\n",
       "      <td>Partly Cloudy Night</td>\n",
       "    </tr>\n",
       "  </tbody>\n",
       "</table>\n",
       "</div>"
      ],
      "text/plain": [
       "        day temp_value low_temp        weather_state\n",
       "0   Ce soir         --      15°    Scattered Showers\n",
       "1   mer. 21        19°      13°    Scattered Showers\n",
       "2   jeu. 22        18°      12°  Partly Cloudy Night\n",
       "3   ven. 23        19°      12°        Partly Cloudy\n",
       "4   sam. 24        19°      12°   Mostly Clear Night\n",
       "5   dim. 25        22°      14°         Mostly Sunny\n",
       "6   lun. 26        20°      14°   Mostly Clear Night\n",
       "7   mar. 27        20°      14°                Foggy\n",
       "8   mer. 28        19°      14°   Mostly Clear Night\n",
       "9   jeu. 29        18°      13°        Partly Cloudy\n",
       "10  ven. 30        18°      13°  Partly Cloudy Night\n",
       "11  sam. 31        18°      13°         Mostly Sunny\n",
       "12  dim. 01        19°      13°  Partly Cloudy Night\n",
       "13  lun. 02        19°      13°    Scattered Showers\n",
       "14  mar. 03        19°      13°  Partly Cloudy Night"
      ]
     },
     "execution_count": 19,
     "metadata": {},
     "output_type": "execute_result"
    }
   ],
   "source": [
    "w_tanger"
   ]
  },
  {
   "cell_type": "code",
   "execution_count": 42,
   "id": "78e91b98",
   "metadata": {},
   "outputs": [
    {
     "data": {
      "text/plain": [
       "3"
      ]
     },
     "execution_count": 42,
     "metadata": {},
     "output_type": "execute_result"
    }
   ],
   "source": [
    "#here we select runing days by weather status \n",
    "T=w_tanger.loc[w_tanger['weather_state']=='Scattered Showers'].count()\n",
    "tanger_runing_days=T[\"weather_state\"]\n",
    "tanger_runing_days"
   ]
  },
  {
   "cell_type": "markdown",
   "id": "1a43001a",
   "metadata": {},
   "source": [
    "### weather in Benguerir"
   ]
  },
  {
   "cell_type": "code",
   "execution_count": 21,
   "id": "a10301db",
   "metadata": {},
   "outputs": [
    {
     "name": "stdout",
     "output_type": "stream",
     "text": [
      "<Response [200]>\n"
     ]
    }
   ],
   "source": [
    "#The url is the page that contain 10 days forcasts weather of benguerir city \n",
    "url2=\"https://weather.com/fr-MA/temps/10jours/l/f37580e42d804f6d54467e56dd9f296e15fe9a25db53ddee63601416ecc06111\"\n",
    "weather_benguerir = requests.get(url2)\n",
    "print(weather_benguerir) \n",
    "soup = BeautifulSoup(weather_benguerir.content, 'html.parser')"
   ]
  },
  {
   "cell_type": "code",
   "execution_count": 22,
   "id": "f1cdf945",
   "metadata": {},
   "outputs": [],
   "source": [
    "import csv\n",
    "import pandas as pd\n",
    "weathers=[]  # a list to store quotes\n",
    "\n",
    "\n",
    "day =soup.find_all('h3',attrs = {'class':\"DetailsSummary--daypartName--kbngc\"})\n",
    "temp_value = soup.find_all('span', attrs={'class':\"DetailsSummary--highTempValue--3PjlX\",'data-testid':\"TemperatureValue\"})\n",
    "low_temp = soup.find_all('span', attrs={'class':\"DetailsSummary--lowTempValue--2tesQ\",'data-testid':\"TemperatureValue\"})\n",
    "weather_state = soup.find_all('div', attrs={'class':\"DailyContent--Condition--1zRBJ\" ,'data-testid':\"weatherIcon\"})\n",
    "for row in range(len(day)):\n",
    "    weather = {}\n",
    "    weather['day'] = day[row].text\n",
    "    weather['temp_value'] = temp_value[row].text\n",
    "    weather['low_temp'] = low_temp[row].text\n",
    "    weather['weather_state'] = weather_state[row].text\n",
    "    \n",
    "\n",
    "    weathers.append(weather)\n",
    "#we can store our data in .csv file   \n",
    "\"\"\"filename = 'tanger_weather.csv'\n",
    "with open(filename, 'w', newline='') as f:\n",
    "    w = csv.DictWriter(f,['day','temp','low_temp'])\n",
    "    w.writeheader()\n",
    "    for weather in weathers:\n",
    "        w.writerow(weather)\"\"\"\n",
    "# or we can store it in pandas dataframe\n",
    "w_benguerir= pd.DataFrame(weathers)"
   ]
  },
  {
   "cell_type": "code",
   "execution_count": 49,
   "id": "5b4f0f10",
   "metadata": {},
   "outputs": [
    {
     "data": {
      "text/plain": [
       "0"
      ]
     },
     "execution_count": 49,
     "metadata": {},
     "output_type": "execute_result"
    }
   ],
   "source": [
    "#here we select runing days by weather status\n",
    "B=w_benguerir.loc[w_benguerir['weather_state']=='Scattered Showers'].count()\n",
    "Bg_runing_days=B[\"weather_state\"]\n",
    "Bg_runing_days"
   ]
  },
  {
   "cell_type": "code",
   "execution_count": 53,
   "id": "b224f0fd",
   "metadata": {},
   "outputs": [
    {
     "data": {
      "image/png": "[encoded data removed]",
      "text/plain": [
       "<Figure size 800x320 with 1 Axes>"
      ]
     },
     "metadata": {
      "needs_background": "light"
     },
     "output_type": "display_data"
    }
   ],
   "source": [
    "import matplotlib.pyplot as plt\n",
    "plt.figure(figsize=(10, 4), dpi=80)\n",
    "plt.bar(1, tanger_runing_days,color ='b', width=0.1,\n",
    "        edgecolor ='grey',align='center',label='Runing days in Tanger')\n",
    "plt.bar(1,Bg_runing_days , 0.4, label = 'Runing days in Benguerir',color ='r')\n",
    "plt.xlabel(\"raining days\")\n",
    "plt.ylabel(\"cities\")\n",
    "plt.title(\"raining days of the two cities Tanger and Benguerir\")\n",
    "plt.grid(linestyle='--')\n",
    "plt.legend()\n",
    "plt.show()"
   ]
  },
  {
   "cell_type": "code",
   "execution_count": 67,
   "id": "6feef9a1",
   "metadata": {},
   "outputs": [
    {
     "data": {
      "image/png": "[encoded data removed]",
      "text/plain": [
       "<Figure size 1120x480 with 1 Axes>"
      ]
     },
     "metadata": {
      "needs_background": "light"
     },
     "output_type": "display_data"
    }
   ],
   "source": [
    "import numpy as np\n",
    "day=w_benguerir[\"day\"]\n",
    "plt.figure(figsize=(14, 6), dpi=80)\n",
    "X_axis = np.arange(len(day))\n",
    "plt.bar(X_axis-0.2, w_benguerir[\"temp_value\"],color ='r', width=0.2,\n",
    "        edgecolor ='grey', label ='face cream sales data',align='center')\n",
    "plt.bar(X_axis, w_tanger[\"temp_value\"], width=0.2,label ='face wash sales data',align='center')\n",
    "plt.xlabel(\"Days\")\n",
    "plt.xticks(X_axis, day)\n",
    "plt.ylabel(\"temperature\")\n",
    "plt.title(\"temperature in the two cities per day \")\n",
    "plt.grid(linestyle='--')\n",
    "plt.legend()\n",
    "plt.show()"
   ]
  },
  {
   "cell_type": "code",
   "execution_count": null,
   "id": "46f8f557",
   "metadata": {},
   "outputs": [],
   "source": []
  }
 ],
 "metadata": {
  "kernelspec": {
   "display_name": "Python 3 (ipykernel)",
   "language": "python",
   "name": "python3"
  },
  "language_info": {
   "codemirror_mode": {
    "name": "ipython",
    "version": 3
   },
   "file_extension": ".py",
   "mimetype": "text/x-python",
   "name": "python",
   "nbconvert_exporter": "python",
   "pygments_lexer": "ipython3",
   "version": "3.9.7"
  }
 },
 "nbformat": 4,
 "nbformat_minor": 5
}
